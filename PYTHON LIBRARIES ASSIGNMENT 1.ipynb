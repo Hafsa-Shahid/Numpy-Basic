{
 "cells": [
  {
   "cell_type": "markdown",
   "id": "64314944",
   "metadata": {},
   "source": [
    "ARRAY CREATION "
   ]
  },
  {
   "cell_type": "code",
   "execution_count": 16,
   "id": "b4ed8f4b",
   "metadata": {},
   "outputs": [
    {
     "data": {
      "text/plain": [
       "array([0., 0., 0., 0., 0., 0., 0., 0., 0., 0.])"
      ]
     },
     "execution_count": 16,
     "metadata": {},
     "output_type": "execute_result"
    }
   ],
   "source": [
    "#QUESTION 1:Create a numpy array of size 10, filled with zeros.\n",
    "\n",
    "a = np.zeros(10)\n",
    "a"
   ]
  },
  {
   "cell_type": "code",
   "execution_count": 19,
   "id": "8f059d29",
   "metadata": {},
   "outputs": [
    {
     "data": {
      "text/plain": [
       "array([10, 11, 12, 13, 14, 15, 16, 17, 18, 19, 20, 21, 22, 23, 24, 25, 26,\n",
       "       27, 28, 29, 30, 31, 32, 33, 34, 35, 36, 37, 38, 39, 40, 41, 42, 43,\n",
       "       44, 45, 46, 47, 48, 49])"
      ]
     },
     "execution_count": 19,
     "metadata": {},
     "output_type": "execute_result"
    }
   ],
   "source": [
    "#QUESTION 2:Create a numpy array with values ranging from 10 to 49\n",
    "\n",
    "b = np.arange(10,50)\n",
    "b"
   ]
  },
  {
   "cell_type": "code",
   "execution_count": 73,
   "id": "101d5010",
   "metadata": {},
   "outputs": [
    {
     "data": {
      "text/plain": [
       "array([[1, 1],\n",
       "       [1, 1]], dtype=int8)"
      ]
     },
     "execution_count": 73,
     "metadata": {},
     "output_type": "execute_result"
    }
   ],
   "source": [
    "#QUESTION 3:Create a numpy matrix of 2*2 integers, filled with ones.\n",
    "\n",
    "c = np.ones((2,2)  , dtype = np.int8)\n",
    "c"
   ]
  },
  {
   "cell_type": "code",
   "execution_count": 74,
   "id": "04c21ffc",
   "metadata": {},
   "outputs": [
    {
     "data": {
      "text/plain": [
       "array([[1., 1.],\n",
       "       [1., 1.],\n",
       "       [1., 1.]])"
      ]
     },
     "execution_count": 74,
     "metadata": {},
     "output_type": "execute_result"
    }
   ],
   "source": [
    "#QUESTION 4:Create a numpy matrix of 3*2 float numbers, filled with ones.\n",
    "\n",
    "d = np.ones((3,2)  , dtype = float)\n",
    "d"
   ]
  },
  {
   "cell_type": "code",
   "execution_count": 163,
   "id": "1227b7f3",
   "metadata": {},
   "outputs": [
    {
     "name": "stdout",
     "output_type": "stream",
     "text": [
      "int32\n",
      "[1 1 1 1]\n",
      "int32\n"
     ]
    }
   ],
   "source": [
    "#QUESTION 5:Given the X numpy array, create a new numpy array with the same shape and type as X,filled with ones.\n",
    "\n",
    "x = np.array([1,2,3,4])\n",
    "print(x.dtype)\n",
    "\n",
    "e = np.ones(x.shape , dtype = x.dtype)\n",
    "print(e)\n",
    "print(e.dtype)"
   ]
  },
  {
   "cell_type": "code",
   "execution_count": 164,
   "id": "7ef4ca5d",
   "metadata": {},
   "outputs": [
    {
     "name": "stdout",
     "output_type": "stream",
     "text": [
      "int32\n",
      "[[0 0 0]\n",
      " [0 0 0]\n",
      " [0 0 0]]\n",
      "int32\n"
     ]
    }
   ],
   "source": [
    "#QUESTION 6:Given the X numpy matrix, create a new numpy matrix with the same shape and type as X, filled with zeros.\n",
    "\n",
    "x = np.array([[5,10,15],[20,25,30],[35,40,45]]) \n",
    "print(x.dtype)\n",
    "\n",
    "f = np.zeros(x.shape , dtype = x.dtype)\n",
    "print(f)\n",
    "print(f.dtype)"
   ]
  },
  {
   "cell_type": "code",
   "execution_count": 52,
   "id": "3443694a",
   "metadata": {},
   "outputs": [
    {
     "data": {
      "text/plain": [
       "array([[5, 5, 5, 5],\n",
       "       [5, 5, 5, 5],\n",
       "       [5, 5, 5, 5],\n",
       "       [5, 5, 5, 5]], dtype=int8)"
      ]
     },
     "execution_count": 52,
     "metadata": {},
     "output_type": "execute_result"
    }
   ],
   "source": [
    "#QUESTION 7:Create a numpy matrix of 4*4 integers, filled with fives.\n",
    "\n",
    "g = np.full((4,4) , 5 , dtype = np.int8)\n",
    "g"
   ]
  },
  {
   "cell_type": "code",
   "execution_count": 166,
   "id": "d5b9d95f",
   "metadata": {},
   "outputs": [
    {
     "name": "stdout",
     "output_type": "stream",
     "text": [
      "int32\n",
      "[[7 7 7]\n",
      " [7 7 7]\n",
      " [7 7 7]]\n",
      "int32\n"
     ]
    }
   ],
   "source": [
    "#QUESTION 8:Given the X numpy matrix, create a new numpy matrix with the same shape and type as X, filled with sevens.\n",
    "\n",
    "p = np.array([[5,10,15],[20,25,30],[35,40,45]]) \n",
    "print(p.dtype)\n",
    "\n",
    "h = np.full(p.shape , 7 ,dtype = p.dtype)\n",
    "print(h)\n",
    "print(h.dtype)"
   ]
  },
  {
   "cell_type": "code",
   "execution_count": 59,
   "id": "4f47fb97",
   "metadata": {},
   "outputs": [
    {
     "data": {
      "text/plain": [
       "array([[1., 0., 0.],\n",
       "       [0., 1., 0.],\n",
       "       [0., 0., 1.]])"
      ]
     },
     "execution_count": 59,
     "metadata": {},
     "output_type": "execute_result"
    }
   ],
   "source": [
    "#QUESTION 9:Create a 3*3 identity numpy matrix with ones on the diagonal and zeros elsewhere.\n",
    "\n",
    "i = np.identity(3)\n",
    "i"
   ]
  },
  {
   "cell_type": "code",
   "execution_count": 63,
   "id": "6c0cad27",
   "metadata": {},
   "outputs": [
    {
     "data": {
      "text/plain": [
       "array([9, 8, 3])"
      ]
     },
     "execution_count": 63,
     "metadata": {},
     "output_type": "execute_result"
    }
   ],
   "source": [
    "#QUESTION 10:Create a numpy array, filled with 3 random integer values between 1 and 10.\n",
    "\n",
    "j = np.random.randint(1 , 10 , size = 3)\n",
    "j"
   ]
  },
  {
   "cell_type": "code",
   "execution_count": 72,
   "id": "4b5da682",
   "metadata": {},
   "outputs": [
    {
     "data": {
      "text/plain": [
       "array([[[0.55256189, 0.8459472 , 0.39133596],\n",
       "        [0.02513178, 0.85306667, 0.28517072],\n",
       "        [0.99555598, 0.7987358 , 0.62176643]],\n",
       "\n",
       "       [[0.63208802, 0.41332566, 0.00545633],\n",
       "        [0.62651441, 0.02160463, 0.79773301],\n",
       "        [0.38425678, 0.78005745, 0.17074886]],\n",
       "\n",
       "       [[0.27979583, 0.30559823, 0.88397202],\n",
       "        [0.64631079, 0.76297948, 0.4168909 ],\n",
       "        [0.28616541, 0.5496666 , 0.28478334]]])"
      ]
     },
     "execution_count": 72,
     "metadata": {},
     "output_type": "execute_result"
    }
   ],
   "source": [
    "#QUESTION 11:Create a 3*3*3 numpy matrix, filled with random float values.\n",
    "\n",
    "k = np.random.random((3,3,3))\n",
    "k"
   ]
  },
  {
   "cell_type": "code",
   "execution_count": 45,
   "id": "eeabe3b0",
   "metadata": {},
   "outputs": [
    {
     "data": {
      "text/plain": [
       "array([ 1,  2,  3,  4,  5,  6,  7,  8,  9, 10])"
      ]
     },
     "execution_count": 45,
     "metadata": {},
     "output_type": "execute_result"
    }
   ],
   "source": [
    "#QUESTION 12:Create a numpy array with numbers from 1 to 10\n",
    "\n",
    "l = np.arange(1,11)\n",
    "l"
   ]
  },
  {
   "cell_type": "code",
   "execution_count": 146,
   "id": "1d2739a0",
   "metadata": {},
   "outputs": [
    {
     "data": {
      "text/plain": [
       "array([1, 3, 5, 7, 9])"
      ]
     },
     "execution_count": 146,
     "metadata": {},
     "output_type": "execute_result"
    }
   ],
   "source": [
    "#QUESTION 13:Create a numpy array with the odd numbers between 1 to 10\n",
    "\n",
    "m = np.arange(1,10,2)\n",
    "m"
   ]
  },
  {
   "cell_type": "code",
   "execution_count": 139,
   "id": "104ed842",
   "metadata": {},
   "outputs": [
    {
     "data": {
      "text/plain": [
       "array([10,  9,  8,  7,  6,  5,  4,  3,  2,  1])"
      ]
     },
     "execution_count": 139,
     "metadata": {},
     "output_type": "execute_result"
    }
   ],
   "source": [
    "#QUESTION 14:Create a numpy array with numbers from 1 to 10, in descending order.\n",
    "\n",
    "n = np.arange(10,0,-1)\n",
    "n"
   ]
  },
  {
   "cell_type": "code",
   "execution_count": 41,
   "id": "232ef752",
   "metadata": {},
   "outputs": [
    {
     "data": {
      "text/plain": [
       "array([[0, 1, 2],\n",
       "       [3, 4, 5],\n",
       "       [6, 7, 8]])"
      ]
     },
     "execution_count": 41,
     "metadata": {},
     "output_type": "execute_result"
    }
   ],
   "source": [
    "#QUESTION 15:Create a 3*3 numpy matrix, filled with values ranging from 0 to 8\n",
    "\n",
    "o = np.arange(9).reshape(3,3)\n",
    "o"
   ]
  },
  {
   "cell_type": "markdown",
   "id": "63f139da",
   "metadata": {},
   "source": [
    "ARRAY INDEXATION"
   ]
  },
  {
   "cell_type": "code",
   "execution_count": 121,
   "id": "6091d0b1",
   "metadata": {},
   "outputs": [
    {
     "name": "stdout",
     "output_type": "stream",
     "text": [
      "a\n"
     ]
    }
   ],
   "source": [
    "#QUESTION 1:Given the X numpy array, show it's first element\n",
    "\n",
    "import numpy as np\n",
    "\n",
    "X = np.array([\"a\",\"b\",\"c\",\"d\",\"e\"])\n",
    "\n",
    "first = X[0]  \n",
    "print(first)"
   ]
  },
  {
   "cell_type": "code",
   "execution_count": 122,
   "id": "b03eaf64",
   "metadata": {},
   "outputs": [
    {
     "name": "stdout",
     "output_type": "stream",
     "text": [
      "e\n"
     ]
    }
   ],
   "source": [
    "#QUESTION 2:Given the X numpy array, show it's last element\n",
    "\n",
    "X = np.array([\"a\",\"b\",\"c\",\"d\",\"e\"])\n",
    "\n",
    "last = X[-1]\n",
    "print(last)"
   ]
  },
  {
   "cell_type": "code",
   "execution_count": 123,
   "id": "00b6fa8c",
   "metadata": {},
   "outputs": [
    {
     "name": "stdout",
     "output_type": "stream",
     "text": [
      "['a' 'b' 'c']\n"
     ]
    }
   ],
   "source": [
    "#QUESTION 3:Given the X numpy array, show it's first three elements\n",
    "\n",
    "X = np.array([\"a\",\"b\",\"c\",\"d\",\"e\"])\n",
    "\n",
    "first_three = X[:3]\n",
    "print(first_three)"
   ]
  },
  {
   "cell_type": "code",
   "execution_count": 124,
   "id": "193b6cdc",
   "metadata": {},
   "outputs": [
    {
     "name": "stdout",
     "output_type": "stream",
     "text": [
      "['b' 'c' 'd']\n"
     ]
    }
   ],
   "source": [
    "#QUESTION 4:Given the X numpy array, show all middle elements\n",
    "\n",
    "X = np.array([\"a\",\"b\",\"c\",\"d\",\"e\"])\n",
    "\n",
    "middle = X[1:-1]\n",
    "print(middle)"
   ]
  },
  {
   "cell_type": "code",
   "execution_count": 125,
   "id": "0c0c6591",
   "metadata": {},
   "outputs": [
    {
     "name": "stdout",
     "output_type": "stream",
     "text": [
      "['e' 'd' 'c' 'b' 'a']\n"
     ]
    }
   ],
   "source": [
    "#QUESTION 5:Given the X numpy array, show the elements in reverse position.\n",
    "\n",
    "X = np.array([\"a\",\"b\",\"c\",\"d\",\"e\"])\n",
    "\n",
    "reverse_post = X[::-1]\n",
    "print(reverse_post)"
   ]
  },
  {
   "cell_type": "code",
   "execution_count": 126,
   "id": "be2a4ff5",
   "metadata": {},
   "outputs": [
    {
     "name": "stdout",
     "output_type": "stream",
     "text": [
      "['a' 'c' 'e']\n"
     ]
    }
   ],
   "source": [
    "#QUESTION 6:Given the X numpy array, show the elements in an odd position.\n",
    "\n",
    "X = np.array([\"a\",\"b\",\"c\",\"d\",\"e\"])\n",
    "\n",
    "odd_position = X[::2]\n",
    "print(odd_position)"
   ]
  },
  {
   "cell_type": "code",
   "execution_count": 127,
   "id": "16178696",
   "metadata": {},
   "outputs": [
    {
     "name": "stdout",
     "output_type": "stream",
     "text": [
      "[ 5 10 15]\n"
     ]
    }
   ],
   "source": [
    "#QUESTION 7:Given the X numpy matrix, show the first row elements.\n",
    "\n",
    "x = np.array([[5,10,15],[20,25,30],[35,40,45]])\n",
    "\n",
    "firstrow = x[0]\n",
    "print(firstrow)"
   ]
  },
  {
   "cell_type": "code",
   "execution_count": 128,
   "id": "155eb68b",
   "metadata": {},
   "outputs": [
    {
     "name": "stdout",
     "output_type": "stream",
     "text": [
      "[35 40 45]\n"
     ]
    }
   ],
   "source": [
    "#QUESTION 8:Given the X numpy matrix, show the last row elements.\n",
    "\n",
    "x = np.array([[5,10,15],[20,25,30],[35,40,45]])\n",
    "\n",
    "lastrow = x[-1]\n",
    "print(lastrow)"
   ]
  },
  {
   "cell_type": "code",
   "execution_count": 129,
   "id": "5eb31649",
   "metadata": {},
   "outputs": [
    {
     "name": "stdout",
     "output_type": "stream",
     "text": [
      "5\n"
     ]
    }
   ],
   "source": [
    "#QUESTION 9:Given the X numpy matrix, show the first element on first row\n",
    "\n",
    "x = np.array([[5,10,15],[20,25,30],[35,40,45]])\n",
    "\n",
    "firstE_firstR = x[0][0]\n",
    "print(firstE_firstR)"
   ]
  },
  {
   "cell_type": "code",
   "execution_count": 130,
   "id": "f328385d",
   "metadata": {},
   "outputs": [
    {
     "name": "stdout",
     "output_type": "stream",
     "text": [
      "45\n"
     ]
    }
   ],
   "source": [
    "#QUESTION 10:Given the X numpy matrix, show the last element on last row.\n",
    "\n",
    "x = np.array([[5,10,15],[20,25,30],[35,40,45]])\n",
    "\n",
    "lastE_lastR = x[-1][-1]\n",
    "print(lastE_lastR)"
   ]
  },
  {
   "cell_type": "code",
   "execution_count": 131,
   "id": "8f6ea136",
   "metadata": {},
   "outputs": [
    {
     "name": "stdout",
     "output_type": "stream",
     "text": [
      "[[ 5 10]\n",
      " [20 25]]\n"
     ]
    }
   ],
   "source": [
    "#QUESTION 11:Given the X numpy matrix, show the first two elements on the first two rows.\n",
    "\n",
    "x = np.array([[5,10,15],[20,25,30],[35,40,45]])\n",
    "\n",
    "start = x[:2,:2]\n",
    "print(start)"
   ]
  },
  {
   "cell_type": "code",
   "execution_count": 132,
   "id": "32748c2f",
   "metadata": {},
   "outputs": [
    {
     "name": "stdout",
     "output_type": "stream",
     "text": [
      "[[25 30]\n",
      " [40 45]]\n"
     ]
    }
   ],
   "source": [
    "#QUESTION 12:Given the X numpy matrix, show the last two elements on the last two rows\n",
    "\n",
    "x = np.array([[5,10,15],[20,25,30],[35,40,45]])\n",
    "\n",
    "end = x[-2:,-2:]\n",
    "print(end)"
   ]
  },
  {
   "cell_type": "markdown",
   "id": "28ee712c",
   "metadata": {},
   "source": [
    "ARRAY MANIPULATION"
   ]
  },
  {
   "cell_type": "code",
   "execution_count": 112,
   "id": "c48d1a6a",
   "metadata": {},
   "outputs": [
    {
     "name": "stdout",
     "output_type": "stream",
     "text": [
      "float64\n",
      "[1. 2. 3. 4.]\n"
     ]
    }
   ],
   "source": [
    "#QUESTION 1:Convert the given integer numpy array to float\n",
    "\n",
    "z = np.array([1,2,3,4] , dtype = float)\n",
    "print(z.dtype)\n",
    "print(z)"
   ]
  },
  {
   "cell_type": "code",
   "execution_count": 117,
   "id": "9e4d4b63",
   "metadata": {},
   "outputs": [
    {
     "data": {
      "text/plain": [
       "array([4, 3, 2, 1])"
      ]
     },
     "execution_count": 117,
     "metadata": {},
     "output_type": "execute_result"
    }
   ],
   "source": [
    "#QUESTION 2:Reverse the given numpy array (first element becomes last)\n",
    "\n",
    "z = np.array([1,2,3,4])\n",
    "\n",
    "y = z[::-1]\n",
    "y"
   ]
  },
  {
   "cell_type": "code",
   "execution_count": 106,
   "id": "c503be84",
   "metadata": {},
   "outputs": [
    {
     "data": {
      "text/plain": [
       "array(['a', 'b', 'c', 'd', 'e', '1'], dtype='<U1')"
      ]
     },
     "execution_count": 106,
     "metadata": {},
     "output_type": "execute_result"
    }
   ],
   "source": [
    "#QUESTION 3:Given the X numpy array, set the fifth element equal to 1\n",
    "\n",
    "X = np.array([\"a\",\"b\",\"c\",\"d\",\"e\",\"f\"])\n",
    "\n",
    "X[5] = 1\n",
    "X"
   ]
  },
  {
   "cell_type": "code",
   "execution_count": 118,
   "id": "dd98847c",
   "metadata": {},
   "outputs": [
    {
     "data": {
      "text/plain": [
       "array([[ 5, 10, 15],\n",
       "       [20, 25, 30],\n",
       "       [ 1,  1,  1]])"
      ]
     },
     "execution_count": 118,
     "metadata": {},
     "output_type": "execute_result"
    }
   ],
   "source": [
    "#QUESTION 4:Given the X numpy matrix, change the last row with all 1\n",
    "\n",
    "x = np.array([[5,10,15],[20,25,30],[35,40,45]])\n",
    "\n",
    "x[-1] = 1\n",
    "x"
   ]
  },
  {
   "cell_type": "code",
   "execution_count": 119,
   "id": "f31747e6",
   "metadata": {},
   "outputs": [
    {
     "data": {
      "text/plain": [
       "array([[10, 15, 20],\n",
       "       [25, 30, 35],\n",
       "       [40, 45, 50]])"
      ]
     },
     "execution_count": 119,
     "metadata": {},
     "output_type": "execute_result"
    }
   ],
   "source": [
    "#QUESTION 5:Given the X numpy matrix, add 5 to every element\n",
    "\n",
    "x = np.array([[5,10,15],[20,25,30],[35,40,45]])\n",
    "\n",
    "x +=5\n",
    "x"
   ]
  }
 ],
 "metadata": {
  "kernelspec": {
   "display_name": "Python 3 (ipykernel)",
   "language": "python",
   "name": "python3"
  },
  "language_info": {
   "codemirror_mode": {
    "name": "ipython",
    "version": 3
   },
   "file_extension": ".py",
   "mimetype": "text/x-python",
   "name": "python",
   "nbconvert_exporter": "python",
   "pygments_lexer": "ipython3",
   "version": "3.11.5"
  }
 },
 "nbformat": 4,
 "nbformat_minor": 5
}
